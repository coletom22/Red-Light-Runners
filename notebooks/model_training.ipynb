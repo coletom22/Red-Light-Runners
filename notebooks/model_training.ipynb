{
 "cells": [
  {
   "cell_type": "markdown",
   "metadata": {},
   "source": [
    "# Model Training\n",
    "This notebook will eventually be dedicated to training models where we can specify target directories to train from and output model performance"
   ]
  },
  {
   "cell_type": "code",
   "execution_count": null,
   "metadata": {},
   "outputs": [],
   "source": [
    "from ultralytics import YOLO\n",
    "import os\n",
    "import shutil\n",
    "import sys\n",
    "from sklearn.model_selection import train_test_split\n",
    "sys.path.append(os.path.abspath('../src'))\n",
    "import utils"
   ]
  },
  {
   "cell_type": "code",
   "execution_count": null,
   "metadata": {},
   "outputs": [],
   "source": [
    "# paths for images and labels\n",
    "image_dir = '../data/images/processed/'\n",
    "label_dir = '../data/labels/formatted/'\n"
   ]
  },
  {
   "cell_type": "code",
   "execution_count": null,
   "metadata": {},
   "outputs": [],
   "source": [
    "# function that moves files to train and validation dirs\n",
    "def train_val_split(img_source_dir, label_source_dir, img_train_dir, label_train_dir,  img_val_dir, label_val_dir, train_percent=0.8):\n",
    "    img_files = os.listdir(img_source_dir)\n",
    "\n",
    "    train_files, val_files = train_test_split(img_files, test_size = 1-train_percent, random_state=42)\n",
    "\n",
    "    for file in train_files:\n",
    "        img_source_path = os.path.join(img_source_dir, file)\n",
    "        img_dest_path = os.path.join(img_train_dir, file)\n",
    "\n",
    "        label_file = os.path.splitext(file)[0] + '.txt'\n",
    "        label_source_path = os.path.join(label_source_dir, label_file)\n",
    "        label_dest_path = os.path.join(label_train_dir, label_file)\n",
    "        try:\n",
    "            shutil.move(img_source_path, img_dest_path)\n",
    "            print(f\"Moved {file} to image/train/\")\n",
    "            shutil.move(label_source_path, label_dest_path)\n",
    "            print(f\"Moved {label_file} to label/train/\")\n",
    "\n",
    "        except Exception as e:\n",
    "            print(f\"Error moving {file} to image/train/ and {label_file} to label/train/: {e}\")\n",
    "\n",
    "    for file in val_files:\n",
    "        img_source_path = os.path.join(img_source_dir, file)\n",
    "        img_dest_path = os.path.join(img_val_dir, file)\n",
    "\n",
    "        label_file = os.path.splitext(file)[0] + '.txt'\n",
    "        label_source_path = os.path.join(label_source_dir, label_file)\n",
    "        label_dest_path = os.path.join(label_val_dir, label_file)\n",
    "        try:\n",
    "            shutil.move(img_source_path, img_dest_path)\n",
    "            print(f\"Moved {file} to image/val/\")\n",
    "            shutil.move(label_source_path, label_dest_path)\n",
    "            print(f\"Moved {label_file} to label/val/\")\n",
    "\n",
    "        except Exception as e:\n",
    "            print(f\"Error moving {file} to image/val/ and {label_file} to label/val/: {e}\")\n",
    "        \n"
   ]
  },
  {
   "cell_type": "code",
   "execution_count": null,
   "metadata": {},
   "outputs": [],
   "source": [
    "img_source_dir = '../data/images/processed'\n",
    "label_source_dir = '../data/labels/formatted'\n",
    "\n",
    "img_train_dir = '../data/model_data/images/train'\n",
    "img_val_dir = '../data/model_data/images/validation'\n",
    "\n",
    "label_train_dir = '../data/model_data/labels/train'\n",
    "label_val_dir = '../data/model_data/labels/validation'"
   ]
  },
  {
   "cell_type": "code",
   "execution_count": null,
   "metadata": {},
   "outputs": [],
   "source": [
    "train_val_split(img_source_dir, label_source_dir, img_train_dir, label_train_dir, img_val_dir, label_val_dir, train_percent=0.8)"
   ]
  },
  {
   "cell_type": "code",
   "execution_count": null,
   "metadata": {},
   "outputs": [],
   "source": [
    "model = YOLO(\"yolov8n.yaml\")\n",
    "results = model.train(data='data.yaml', epochs=10, imgsz=768)\n"
   ]
  },
  {
   "cell_type": "code",
   "execution_count": null,
   "metadata": {},
   "outputs": [],
   "source": [
    "utils.dump_data()"
   ]
  },
  {
   "cell_type": "code",
   "execution_count": null,
   "metadata": {},
   "outputs": [],
   "source": [
    "# define data.yaml file\n",
    "data_yaml = \"\"\"\n",
    "train: ../data/model_data/images/train/ # Path to images directory\n",
    "val: ../data/model_data/images/validation/ # Path \n",
    "\"\"\"\""
   ]
  },
  {
   "cell_type": "code",
   "execution_count": null,
   "metadata": {},
   "outputs": [],
   "source": [
    "# note to self, write a python script that writes down all the images of each training, validation split for each time that the model is trained to keep track of data performance."
   ]
  },
  {
   "cell_type": "code",
   "execution_count": null,
   "metadata": {},
   "outputs": [],
   "source": [
    "for label in os.listdir(label_source_dir):\n",
    "    file_path = os.path.join(label_source_dir, label)\n",
    "\n",
    "    with open(file_path, 'r') as file:\n",
    "        content = file.read()\n",
    "    \n",
    "    content = content.replace(',', '')\n",
    "\n",
    "    with open(file_path, 'w') as file:\n",
    "        file.write(content)"
   ]
  },
  {
   "cell_type": "code",
   "execution_count": null,
   "metadata": {},
   "outputs": [],
   "source": [
    "# C:\\Program Files\\NVIDIA GPU Computing Toolkit\\CUDA\\v12.1"
   ]
  },
  {
   "cell_type": "code",
   "execution_count": 1,
   "metadata": {},
   "outputs": [
    {
     "name": "stdout",
     "output_type": "stream",
     "text": [
      "CUDA available: False\n",
      "GPU Name: No CUDA device found\n"
     ]
    }
   ],
   "source": [
    "import torch\n",
    "print(\"CUDA available:\", torch.cuda.is_available())\n",
    "print(\"GPU Name:\", torch.cuda.get_device_name(0) if torch.cuda.is_available() else \"No CUDA device found\")"
   ]
  },
  {
   "cell_type": "code",
   "execution_count": null,
   "metadata": {},
   "outputs": [],
   "source": []
  }
 ],
 "metadata": {
  "kernelspec": {
   "display_name": "venv",
   "language": "python",
   "name": "python3"
  },
  "language_info": {
   "codemirror_mode": {
    "name": "ipython",
    "version": 3
   },
   "file_extension": ".py",
   "mimetype": "text/x-python",
   "name": "python",
   "nbconvert_exporter": "python",
   "pygments_lexer": "ipython3",
   "version": "3.10.11"
  }
 },
 "nbformat": 4,
 "nbformat_minor": 2
}
